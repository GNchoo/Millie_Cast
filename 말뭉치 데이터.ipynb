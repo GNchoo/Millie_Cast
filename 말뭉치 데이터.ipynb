{
 "cells": [
  {
   "cell_type": "code",
   "execution_count": 3,
   "metadata": {},
   "outputs": [],
   "source": [
    "from konlpy.tag import Komoran\n",
    "\n",
    "komoran = Komoran()"
   ]
  },
  {
   "cell_type": "code",
   "execution_count": 7,
   "metadata": {},
   "outputs": [],
   "source": [
    "input_value = input(\"대체할 값을 입력하세요: \")  # 사용자로부터 대체할 값을 입력받습니다."
   ]
  },
  {
   "cell_type": "code",
   "execution_count": 10,
   "metadata": {},
   "outputs": [],
   "source": [
    "f = open(\"corpus.txt\", 'rb')\n",
    "f2 = open(\"corpus2.txt\", 'w', encoding='utf-8')\n",
    "\n",
    "lines = f.readlines()\n",
    "\n",
    "for i, line in enumerate(lines):\n",
    "    if line == b'\\n':\n",
    "        continue\n",
    "    line = line.decode().strip()  # 엔터를 제거합니다.\n",
    "    line = line.replace(str(i + 1) + \"\\t\", str(i + 1) + \"\\t\" + input_value + \" \")  # 입력값으로 대체합니다.\n",
    "    f2.write(line + '\\n')  # 줄바꿈을 추가하여 쓰도록 합니다.\n",
    "\n",
    "f.close()\n",
    "f2.close()\n"
   ]
  },
  {
   "cell_type": "code",
   "execution_count": 10,
   "metadata": {},
   "outputs": [],
   "source": [
    "f = open(\"corpus2.txt\", 'rb')\n",
    "# 저장 w, 추가 a\n",
    "f2 = open(\"corpus3.txt\", 'a', encoding='utf-8') \n",
    "\n",
    "lines = f.readlines()\n",
    "\n",
    "lc = [input_value]\n",
    "\n",
    "for line in lines:\n",
    "    if line == b'\\n':\n",
    "        continue\n",
    "    line = line.decode()\n",
    "    line = line.strip().split('\\t')[1]\n",
    "    f2.write('; '+line+'\\n')\n",
    "    f2.write('$ '+line+'\\n')\n",
    "    komo = komoran.pos(line)\n",
    "    for i, word in enumerate(komo):\n",
    "        tag = 'O'\n",
    "        if word[0] in lc:\n",
    "            tag = 'B_CAN'\n",
    "        f2.write(str(i+1)+'\\t'+word[0]+'\\t'+word[1]+'\\t'+tag+'\\n')\n",
    "    f2.write('\\n')\n",
    "\n",
    "\n",
    "f.close()\n",
    "f2.close()"
   ]
  },
  {
   "cell_type": "code",
   "execution_count": null,
   "metadata": {},
   "outputs": [],
   "source": []
  }
 ],
 "metadata": {
  "kernelspec": {
   "display_name": "venv",
   "language": "python",
   "name": "python3"
  },
  "language_info": {
   "codemirror_mode": {
    "name": "ipython",
    "version": 3
   },
   "file_extension": ".py",
   "mimetype": "text/x-python",
   "name": "python",
   "nbconvert_exporter": "python",
   "pygments_lexer": "ipython3",
   "version": "3.10.9"
  },
  "orig_nbformat": 4
 },
 "nbformat": 4,
 "nbformat_minor": 2
}
