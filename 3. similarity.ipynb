{
 "cells": [
  {
   "cell_type": "code",
   "execution_count": null,
   "metadata": {},
   "outputs": [],
   "source": [
    "# 유사도\n",
    "\n",
    "# 1. n-gram\n",
    "# 2. 코사인 유사도"
   ]
  },
  {
   "cell_type": "code",
   "execution_count": null,
   "metadata": {},
   "outputs": [],
   "source": [
    "# n-gram\n",
    "\n",
    "# 문장을 입력받으면 n의 수만큼 단어를 묶음\n",
    "# 6월에 뉴턴은 선생님의 제안으로 대학교에 입학하였다.\n",
    "\n",
    "# n=2\n",
    "# 1. 명사 추출\n",
    "# 6월, 뉴턴, 선생님, 제안, 대학교, 입학\n",
    "# 2. 2개씩 묶음\n",
    "# 6월 뉴턴, 뉴턴 선생님, 선생님 제안, 제안 대학교, 대학교 입학\n",
    "\n",
    "# 6월에 뉴턴은 선생님의 제안으로 트리니티에 입학하였다.\n",
    "# 6월 뉴턴, 뉴턴 선생님, 선생님 제안, 제안 트리니티, 트리니티 입학\n",
    "\n",
    "# n-gram을 적용한 두개의 문장에서 토큰 비교\n",
    "# 3/5 -> 유사도 60%"
   ]
  },
  {
   "cell_type": "code",
   "execution_count": 18,
   "metadata": {},
   "outputs": [],
   "source": [
    "from konlpy.tag import Komoran\n",
    "import numpy as np\n",
    "from numpy import dot\n",
    "from numpy.linalg import norm "
   ]
  },
  {
   "cell_type": "code",
   "execution_count": 2,
   "metadata": {},
   "outputs": [],
   "source": [
    "# 어절 단위의 n-gram\n",
    "def word_ngram(bow, num_gram):\n",
    "    text = tuple(bow)\n",
    "    ngrams = [text[x:x+num_gram] for x in range(len(text))]\n",
    "    return tuple(ngrams)"
   ]
  },
  {
   "cell_type": "code",
   "execution_count": 1,
   "metadata": {},
   "outputs": [],
   "source": [
    "# 유사도를 계산하는 함수\n",
    "def similarity(doc1, doc2):\n",
    "    cnt = 0\n",
    "    for token in doc1:\n",
    "        if token in doc2:\n",
    "            cnt += 1\n",
    "    return cnt/len(doc1)"
   ]
  },
  {
   "cell_type": "code",
   "execution_count": 5,
   "metadata": {},
   "outputs": [],
   "source": [
    "Komoran = Komoran()"
   ]
  },
  {
   "cell_type": "code",
   "execution_count": 12,
   "metadata": {},
   "outputs": [],
   "source": [
    "sentence1 = \"6월에 뉴턴은 선생님의 제안으로 대학교에 입학하였다.\"\n",
    "sentence2 = \"6월에 뉴턴은 선생님의 제안으로 트리니티에 입학하였다.\"\n",
    "sentence3 = \"밥을 뉴턴 선생님과 같이 먹었다.\""
   ]
  },
  {
   "cell_type": "code",
   "execution_count": 13,
   "metadata": {},
   "outputs": [],
   "source": [
    "# 명사 추출\n",
    "bow1 = Komoran.nouns(sentence1)\n",
    "bow2 = Komoran.nouns(sentence2)\n",
    "bow3 = Komoran.nouns(sentence3)\n",
    "\n",
    "doc1 = word_ngram(bow1,2)\n",
    "doc2 = word_ngram(bow2,2)\n",
    "doc3 = word_ngram(bow3,2)"
   ]
  },
  {
   "cell_type": "code",
   "execution_count": 8,
   "metadata": {},
   "outputs": [
    {
     "data": {
      "text/plain": [
       "0.6666666666666666"
      ]
     },
     "execution_count": 8,
     "metadata": {},
     "output_type": "execute_result"
    }
   ],
   "source": [
    "r1 = similarity(doc1, doc2)\n",
    "r1"
   ]
  },
  {
   "cell_type": "code",
   "execution_count": 14,
   "metadata": {},
   "outputs": [
    {
     "data": {
      "text/plain": [
       "0.16666666666666666"
      ]
     },
     "execution_count": 14,
     "metadata": {},
     "output_type": "execute_result"
    }
   ],
   "source": [
    "r2 = similarity(doc2, doc3)\n",
    "r2"
   ]
  },
  {
   "cell_type": "code",
   "execution_count": 11,
   "metadata": {},
   "outputs": [
    {
     "data": {
      "text/plain": [
       "(('6월', '뉴턴'),\n",
       " ('뉴턴', '선생님'),\n",
       " ('선생님', '제안'),\n",
       " ('제안', '트리니티'),\n",
       " ('트리니티', '입학'),\n",
       " ('입학',))"
      ]
     },
     "execution_count": 11,
     "metadata": {},
     "output_type": "execute_result"
    }
   ],
   "source": [
    "doc2"
   ]
  },
  {
   "cell_type": "code",
   "execution_count": 15,
   "metadata": {},
   "outputs": [
    {
     "data": {
      "text/plain": [
       "(('밥', '뉴턴'), ('뉴턴', '선생님'), ('선생님',))"
      ]
     },
     "execution_count": 15,
     "metadata": {},
     "output_type": "execute_result"
    }
   ],
   "source": [
    "doc3"
   ]
  },
  {
   "cell_type": "code",
   "execution_count": 16,
   "metadata": {},
   "outputs": [],
   "source": [
    "# 코사인 유사도\n",
    "\n",
    "# 크기와 방향을 가지고 있으면 좌표상에 그릴 수 있음\n",
    "# 3차원 벡터 -> x,y,z축 위에 그릴 수 있음\n",
    "# 각 벡터간의 좌표상 거리, 각도를 계산하는 것도 가능하다\n",
    "\n",
    "# 좌표상의 거리를 이용해 유사도를 계산하는 방식\n",
    "\n",
    "# 코사인 -> -1~1\n",
    "# 두 벡터의 방향이 완전 같으면 1, 반대면 -1, 직각 0 -> 1에 가까울수록 유사함\n",
    "# 두 벡터의 내적 / 두 벡터의 크기의 곱"
   ]
  },
  {
   "cell_type": "code",
   "execution_count": 19,
   "metadata": {},
   "outputs": [],
   "source": [
    "# 코사인 유사도 계산하는 함수\n",
    "def cos_sim(vec1,vec2):\n",
    "    # dot => 내적\n",
    "    # norm(노름) => 벡터의 크기\n",
    "\treturn dot(vec1, vec2) / (norm(vec1)*norm(vec2))"
   ]
  },
  {
   "cell_type": "code",
   "execution_count": 20,
   "metadata": {},
   "outputs": [],
   "source": [
    "# TDM -> 단어 문서 행렬\n",
    "def make_tdm(sentence_bow, word_dic):\n",
    "    mat = {}\n",
    "\n",
    "    for word in word_dic:\n",
    "        mat[word] = 0\n",
    "\n",
    "    for word in word_dic:\n",
    "        if word in sentence_bow:\n",
    "            mat[word] += 1\n",
    "    \n",
    "    return mat"
   ]
  },
  {
   "cell_type": "code",
   "execution_count": 21,
   "metadata": {},
   "outputs": [],
   "source": [
    "# 단어 빈도 벡터\n",
    "def make_vector(tdm):\n",
    "    vec = []\n",
    "    for key in tdm:\n",
    "        vec.append(tdm[key])\n",
    "    return vec"
   ]
  },
  {
   "cell_type": "code",
   "execution_count": 22,
   "metadata": {},
   "outputs": [],
   "source": [
    "# 단어 리스트를 하나로 합침\n",
    "\n",
    "bow = bow1 + bow2 + bow3"
   ]
  },
  {
   "cell_type": "code",
   "execution_count": 23,
   "metadata": {},
   "outputs": [],
   "source": [
    "# 중복 제거해서 단어사전 구축\n",
    "\n",
    "word_dic = []\n",
    "for token in bow:\n",
    "    if token not in word_dic:\n",
    "        word_dic.append(token)"
   ]
  },
  {
   "cell_type": "code",
   "execution_count": 24,
   "metadata": {},
   "outputs": [],
   "source": [
    "# 문장별 단어 문서 행렬\n",
    "list1 = make_tdm(bow1, word_dic)\n",
    "list2 = make_tdm(bow2, word_dic)\n",
    "list3 = make_tdm(bow3, word_dic)"
   ]
  },
  {
   "cell_type": "code",
   "execution_count": 27,
   "metadata": {},
   "outputs": [],
   "source": [
    "doc1 = np.array(make_vector(list1))\n",
    "doc2 = np.array(make_vector(list2))\n",
    "doc3 = np.array(make_vector(list3))"
   ]
  },
  {
   "cell_type": "code",
   "execution_count": 28,
   "metadata": {},
   "outputs": [
    {
     "data": {
      "text/plain": [
       "0.8333333333333335"
      ]
     },
     "execution_count": 28,
     "metadata": {},
     "output_type": "execute_result"
    }
   ],
   "source": [
    "r1 = cos_sim(doc1, doc2)\n",
    "r1\n"
   ]
  },
  {
   "cell_type": "code",
   "execution_count": 30,
   "metadata": {},
   "outputs": [
    {
     "data": {
      "text/plain": [
       "0.47140452079103173"
      ]
     },
     "execution_count": 30,
     "metadata": {},
     "output_type": "execute_result"
    }
   ],
   "source": [
    "r2 = cos_sim(doc3, doc1)\n",
    "r2\n"
   ]
  }
 ],
 "metadata": {
  "kernelspec": {
   "display_name": "venv",
   "language": "python",
   "name": "python3"
  },
  "language_info": {
   "codemirror_mode": {
    "name": "ipython",
    "version": 3
   },
   "file_extension": ".py",
   "mimetype": "text/x-python",
   "name": "python",
   "nbconvert_exporter": "python",
   "pygments_lexer": "ipython3",
   "version": "3.10.9"
  },
  "orig_nbformat": 4
 },
 "nbformat": 4,
 "nbformat_minor": 2
}
