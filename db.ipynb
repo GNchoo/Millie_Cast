{
 "cells": [
  {
   "cell_type": "code",
   "execution_count": 1,
   "metadata": {},
   "outputs": [],
   "source": [
    "import pymysql;"
   ]
  },
  {
   "cell_type": "code",
   "execution_count": 6,
   "metadata": {},
   "outputs": [
    {
     "name": "stdout",
     "output_type": "stream",
     "text": [
      "성공\n"
     ]
    }
   ],
   "source": [
    "db = None\n",
    "\n",
    "try:\n",
    "    #DB 연결\n",
    "    db = pymysql.connect(\n",
    "        host=\"127.0.0.1\",\n",
    "        user=\"root\",\n",
    "        passwd=\"1234\",\n",
    "        port=3307,\n",
    "        db=\"chatbot\",\n",
    "        charset=\"utf8\"\n",
    "    )\n",
    "    print(\"성공\")\n",
    "    \n",
    "    sql = '''\n",
    "    CREATE TABLE tb_student (\n",
    "        id int primary key auto_increment not null,\n",
    "        name varchar(32),\n",
    "        age int,\n",
    "        address varchar(32)\n",
    "    ) ENGINE=InnoDB DEFAULT CHARSET=utf8\n",
    "    '''\n",
    "    \n",
    "    # cursor 객체 안의 execute문으로 쿼리 실행\n",
    "    with db.cursor() as cursor:\n",
    "        cursor.execute(sql)\n",
    "\n",
    "except Exception as e:\n",
    "    #실패했을 때\n",
    "    print(\"실패\")\n",
    "    \n",
    "finally:\n",
    "    # 성공하든 실패하든 수행할 코드\n",
    "    if db is not None:\n",
    "        db.close()"
   ]
  },
  {
   "cell_type": "code",
   "execution_count": 9,
   "metadata": {},
   "outputs": [
    {
     "name": "stdout",
     "output_type": "stream",
     "text": [
      "성공\n"
     ]
    }
   ],
   "source": [
    "import pandas as pd\n",
    "\n",
    "db = None\n",
    "\n",
    "try:\n",
    "    #DB 연결\n",
    "    db = pymysql.connect(\n",
    "        host=\"127.0.0.1\",\n",
    "        user=\"root\",\n",
    "        passwd=\"1234\",\n",
    "        port=3307,\n",
    "        db=\"chatbot\",\n",
    "        charset=\"utf8\"\n",
    "    )\n",
    "    print(\"성공\")\n",
    "    \n",
    "    # python dict -> insert\n",
    "    students = [\n",
    "        {'name' : '김진수', 'age' : 25, 'address' : '부산'},\n",
    "        {'name' : '정민주', 'age' : 21, 'address' : '부산'},\n",
    "        {'name' : '도강규', 'age' : 23, 'address' : '서울'},\n",
    "    ]\n",
    "    \n",
    "    # cursor 객체 안의 execute문으로 쿼리 실행\n",
    "    for s in students:\n",
    "        with db.cursor() as cursor:\n",
    "            sql = '''\n",
    "                insert tb_student(name, age, address) values (\"%s\",%d,\"%s\")\n",
    "            ''' % (s['name'], s['age'], s['address'])\n",
    "            cursor.execute(sql)\n",
    "        #DML(select, insert, update, delete)\n",
    "        #select를 제외한 모든 DML을 수행한 후에는 커밋을 해줘야함\n",
    "    \n",
    "    db.commit()\n",
    "\n",
    "except Exception as e:\n",
    "    # 실패했을 때\n",
    "    print(\"실패\")\n",
    "    \n",
    "finally:\n",
    "    # 성공하든 실패하든 수행할 코드\n",
    "    if db is not None:\n",
    "        db.close()"
   ]
  },
  {
   "cell_type": "code",
   "execution_count": 23,
   "metadata": {},
   "outputs": [
    {
     "name": "stdout",
     "output_type": "stream",
     "text": [
      "성공\n",
      "[{'id': 1, 'name': '김진수', 'age': 25, 'address': '부산'}, {'id': 2, 'name': '정민주', 'age': 21, 'address': '부산'}, {'id': 3, 'name': '도강규', 'age': 23, 'address': '서울'}]\n",
      "--------------------------\n",
      "   id name  age address\n",
      "0   1  김진수   25      부산\n",
      "1   2  정민주   21      부산\n",
      "2   3  도강규   23      서울\n"
     ]
    }
   ],
   "source": [
    "import pandas as pd\n",
    "\n",
    "db = None\n",
    "\n",
    "try:\n",
    "    # DB 연결\n",
    "    db = pymysql.connect(\n",
    "        host=\"127.0.0.1\",\n",
    "        user=\"root\",\n",
    "        passwd=\"1234\",\n",
    "        port=3307,\n",
    "        db=\"chatbot\",\n",
    "        charset=\"utf8\"\n",
    "    )\n",
    "    print(\"성공\")\n",
    "    \n",
    "    # 조회\n",
    "    #  Dictcursor : 결과를 파이썬 딕셔너리 형태로 리턴\n",
    "    with db.cursor(pymysql.cursors.DictCursor) as cursor:\n",
    "        sql = '''\n",
    "            select * from tb_student\n",
    "        '''\n",
    "        cursor.execute(sql)\n",
    "        # fetchall -> 조회한 모든 데이터를 리턴\n",
    "        result = cursor.fetchall()\n",
    "        # fetchone -> 조회한 데이터중 첫번째 데이터만 리턴\n",
    "        # result2 = cursor.fetchone()\n",
    "    print(result)\n",
    "    print(\"--------------------------\")\n",
    "    # print(result2)\n",
    "    \n",
    "    df = pd.DataFrame(result)\n",
    "    print(df)\n",
    "\n",
    "except Exception as e:\n",
    "    # 실패했을 때\n",
    "    print(\"실패\")\n",
    "    \n",
    "finally:\n",
    "    # 성공하든 실패하든 수행할 코드\n",
    "    if db is not None:\n",
    "        db.close()"
   ]
  }
 ],
 "metadata": {
  "kernelspec": {
   "display_name": "venv",
   "language": "python",
   "name": "python3"
  },
  "language_info": {
   "codemirror_mode": {
    "name": "ipython",
    "version": 3
   },
   "file_extension": ".py",
   "mimetype": "text/x-python",
   "name": "python",
   "nbconvert_exporter": "python",
   "pygments_lexer": "ipython3",
   "version": "3.10.9"
  },
  "orig_nbformat": 4
 },
 "nbformat": 4,
 "nbformat_minor": 2
}
