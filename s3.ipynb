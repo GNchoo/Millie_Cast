{
 "cells": [
  {
   "cell_type": "code",
   "execution_count": 25,
   "metadata": {},
   "outputs": [
    {
     "name": "stdout",
     "output_type": "stream",
     "text": [
      "이미지 다운로드가 완료되었습니다.\n"
     ]
    }
   ],
   "source": [
    "import boto3\n",
    "from dotenv import load_dotenv\n",
    "import os\n",
    "\n",
    "# .env 파일 로드\n",
    "load_dotenv()\n",
    "\n",
    "def download_image_from_s3(local_file_path):\n",
    "    # S3 버킷 이름\n",
    "    bucket_name = 'image-test-learn'\n",
    "    \n",
    "    # 파일의 기본 이름 (파일명 + 확장자)\n",
    "    file_name = os.path.basename(local_file_path)\n",
    "    \n",
    "    # 파일명 추출\n",
    "    file_name_without_extension = os.path.splitext(file_name)[0]\n",
    "    \n",
    "    # 다운로드할 이미지의 S3 키 (파일명)\n",
    "    s3_key = f'ehrkdrb1@gmail.com/{file_name_without_extension}'\n",
    "    \n",
    "    \n",
    "    # 액세스 키와 비밀 액세스 키\n",
    "    access_key = os.getenv(\"access_key\")\n",
    "    secret_key = os.getenv(\"secret_key\")\n",
    "    \n",
    "    s3 = boto3.client('s3', region_name='ap-northeast-2', aws_access_key_id=access_key, aws_secret_access_key=secret_key)\n",
    "    \n",
    "    try:\n",
    "        s3.download_file(bucket_name, s3_key, local_file_path)\n",
    "        print(\"이미지 다운로드가 완료되었습니다.\")\n",
    "    except Exception as e:\n",
    "        print(\"이미지 다운로드 중 오류가 발생했습니다:\", e)\n",
    "\n",
    "\n",
    "# 로컬에 저장될 파일 경로\n",
    "local_file_path = 'D:/Do/Workspace/python/chatbot/image/test.png'\n",
    "\n",
    "# 이미지 다운로드 함수 호출\n",
    "download_image_from_s3(local_file_path)\n"
   ]
  },
  {
   "cell_type": "code",
   "execution_count": 18,
   "metadata": {},
   "outputs": [
    {
     "name": "stdout",
     "output_type": "stream",
     "text": [
      "이미지 업로드가 완료되었습니다.\n"
     ]
    }
   ],
   "source": [
    "import boto3\n",
    "from dotenv import load_dotenv\n",
    "import os\n",
    "\n",
    "# .env 파일 로드\n",
    "load_dotenv()\n",
    "\n",
    "def upload_image_to_s3(file_path):\n",
    "    # S3 버킷 이름\n",
    "    bucket_name = 'image-test-learn'\n",
    "    \n",
    "    # 파일의 기본 이름 (파일명 + 확장자)\n",
    "    file_name = os.path.basename(file_path)\n",
    "\n",
    "    # 파일명 추출\n",
    "    file_name_without_extension = os.path.splitext(file_name)[0]\n",
    "    \n",
    "    # 액세스 키와 비밀 액세스 키\n",
    "    access_key = os.getenv(\"access_key\")\n",
    "    secret_key = os.getenv(\"secret_key\")\n",
    "    \n",
    "    s3 = boto3.client('s3', region_name='ap-northeast-2', aws_access_key_id=access_key, aws_secret_access_key=secret_key)\n",
    "    \n",
    "    # S3에 저장될 키 (파일명)\n",
    "    s3_key = f'ehrkdrb1@gmail.com/{file_name_without_extension}'\n",
    "\n",
    "    try:\n",
    "        s3.upload_file(file_path, bucket_name, s3_key)\n",
    "        print(\"이미지 업로드가 완료되었습니다.\")\n",
    "    except Exception as e:\n",
    "        print(\"이미지 업로드 중 오류가 발생했습니다:\", e)\n",
    "\n",
    "\n",
    "# 업로드할 이미지 파일 경로\n",
    "file_path = 'D:/Do/Workspace/python/chatbot/test.png'\n",
    "\n",
    "# 이미지 업로드 함수 호출\n",
    "upload_image_to_s3(file_path)\n"
   ]
  }
 ],
 "metadata": {
  "kernelspec": {
   "display_name": "venv",
   "language": "python",
   "name": "python3"
  },
  "language_info": {
   "codemirror_mode": {
    "name": "ipython",
    "version": 3
   },
   "file_extension": ".py",
   "mimetype": "text/x-python",
   "name": "python",
   "nbconvert_exporter": "python",
   "pygments_lexer": "ipython3",
   "version": "3.10.9"
  },
  "orig_nbformat": 4
 },
 "nbformat": 4,
 "nbformat_minor": 2
}
