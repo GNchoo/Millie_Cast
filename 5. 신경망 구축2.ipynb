{
 "cells": [
  {
   "cell_type": "code",
   "execution_count": 1,
   "metadata": {},
   "outputs": [],
   "source": [
    "# 순환신경망\n",
    "# LSTM -> 가중치, 절편, 순환가중치 셀 4개 순환시키는 신경망\n",
    "# 여기선 양방향 LSTM\n",
    "# 앞의 훈련 결과를 다음 타임스탭에 전달\n",
    "# 역방향을 추가\n",
    "# 문장의 뒷부분부터 훈련해서 앞으로 가는데 앞부분의 데이터도 잘 훈련할 수 있다."
   ]
  },
  {
   "cell_type": "code",
   "execution_count": null,
   "metadata": {},
   "outputs": [],
   "source": [
    "# NER(개체명 인식)\n",
    "# 문장에서 인물, 장소, 날짜 등을 의미하는 단어인지 인식\n",
    "# 오늘 부산 날씨 알려줘\n",
    "# 날짜 장소"
   ]
  },
  {
   "cell_type": "code",
   "execution_count": null,
   "metadata": {},
   "outputs": [],
   "source": [
    "# BIO 표기법\n",
    "# Beginning, Inside, Outside\n",
    "# 개체명이 시작되는 단어 B\n",
    "# I => B에 이어지는 개체명\n",
    "# O => 그 외\n",
    "\n",
    "# 삼성전자에 다닌다.\n",
    "# 삼성전자 => 회사라는 개체명 인식\n",
    "# 삼성(B-회사), 전자(I-회사), 에(O)"
   ]
  },
  {
   "cell_type": "code",
   "execution_count": 2,
   "metadata": {},
   "outputs": [],
   "source": [
    "# train.txt\n",
    "# 첫줄 ; 시작되는 원본 문장\n",
    "# 두번째 줄 $ 시작되는 NER처리된 문장\n",
    "# 그밑에서부터 토큰번호, 토큰, 품사태그, BIO태그\n",
    "# 빈 줄"
   ]
  },
  {
   "cell_type": "code",
   "execution_count": 51,
   "metadata": {},
   "outputs": [],
   "source": [
    "import tensorflow as tf\n",
    "from tensorflow import keras\n",
    "from sklearn.model_selection import train_test_split\n",
    "import numpy as np\n",
    "from seqeval.metrics import f1_score\n",
    "from sklearn.metrics import classification_report\n"
   ]
  },
  {
   "cell_type": "code",
   "execution_count": 3,
   "metadata": {},
   "outputs": [],
   "source": [
    "def read_file(filename):\n",
    "    sent = []\n",
    "    with open(filename, 'r', encoding='utf-8') as f :\n",
    "        lines = f.readlines()\n",
    "        for idx, l in enumerate(lines):\n",
    "            # 새로운 문장이 시작될 때 초기화\n",
    "            if l[0] == ';' and lines[idx + 1][0] == '$':\n",
    "                this_sent = []\n",
    "            # 두번째 줄 아무동작 안하고 건너뜀\n",
    "            elif l[0] == '$' and lines[idx-1][0] == ';':\n",
    "                continue\n",
    "            # 마지막 줄(비어있는 줄) sent배열을 채워주기\n",
    "            elif l[0] == '\\n':\n",
    "                sent.append(this_sent)\n",
    "            else:\n",
    "                this_sent.append(tuple(l.split()))\n",
    "    return sent"
   ]
  },
  {
   "cell_type": "code",
   "execution_count": 4,
   "metadata": {},
   "outputs": [],
   "source": [
    "corpus = read_file('./data/train.txt')"
   ]
  },
  {
   "cell_type": "code",
   "execution_count": 5,
   "metadata": {},
   "outputs": [],
   "source": [
    "# BIO 태그만 불러와 데이터셋 생성\n",
    "sentence = []\n",
    "tag = []\n",
    "for t in corpus :\n",
    "    sen = []\n",
    "    bio = []\n",
    "    for w in t:\n",
    "        sen.append(w[1])\n",
    "        bio.append(w[3])\n",
    "    sentence.append(sen)\n",
    "    tag.append(bio)"
   ]
  },
  {
   "cell_type": "code",
   "execution_count": 6,
   "metadata": {},
   "outputs": [
    {
     "data": {
      "text/plain": [
       "3555"
      ]
     },
     "execution_count": 6,
     "metadata": {},
     "output_type": "execute_result"
    }
   ],
   "source": [
    "len(sentence)"
   ]
  },
  {
   "cell_type": "code",
   "execution_count": 7,
   "metadata": {},
   "outputs": [
    {
     "data": {
      "text/plain": [
       "['한편',\n",
       " ',',\n",
       " 'AFC',\n",
       " '챔피언스',\n",
       " '리그',\n",
       " 'E',\n",
       " '조',\n",
       " '에',\n",
       " '속하',\n",
       " 'ㄴ',\n",
       " '포항',\n",
       " '역시',\n",
       " '대회',\n",
       " '8강',\n",
       " '진출',\n",
       " '이',\n",
       " '불투명',\n",
       " '하',\n",
       " '다',\n",
       " '.']"
      ]
     },
     "execution_count": 7,
     "metadata": {},
     "output_type": "execute_result"
    }
   ],
   "source": [
    "sentence[0]"
   ]
  },
  {
   "cell_type": "code",
   "execution_count": 8,
   "metadata": {},
   "outputs": [
    {
     "name": "stdout",
     "output_type": "stream",
     "text": [
      "['O', 'O', 'O', 'O', 'O', 'B_OG', 'I', 'O', 'O', 'O', 'O', 'O', 'O', 'O', 'O', 'O', 'O', 'O', 'O', 'O']\n"
     ]
    }
   ],
   "source": [
    "print(tag[0])"
   ]
  },
  {
   "cell_type": "code",
   "execution_count": 10,
   "metadata": {},
   "outputs": [],
   "source": [
    "# 토크나어저\n",
    "\n",
    "# oov -> 단어사전에 없는 단어를 <OOV>라고 인식\n",
    "sent_tokenizer = keras.preprocessing.text.Tokenizer(oov_token='OOV')\n",
    "sent_tokenizer.fit_on_texts(sentence)\n",
    "\n",
    "# 자동으로 소문자 바뀌는거 false\n",
    "tag_tokenizer = keras.preprocessing.text.Tokenizer(lower=False)\n",
    "tag_tokenizer.fit_on_texts(tag)"
   ]
  },
  {
   "cell_type": "code",
   "execution_count": 11,
   "metadata": {},
   "outputs": [],
   "source": [
    "voca_size = len(sent_tokenizer.word_index) + 1\n",
    "tag_size = len(tag_tokenizer.word_index) + 1\n",
    "\n",
    "# 단어 시퀀스\n",
    "x_train = sent_tokenizer.texts_to_sequences(sentence)\n",
    "y_train = tag_tokenizer.texts_to_sequences(tag)"
   ]
  },
  {
   "cell_type": "code",
   "execution_count": 12,
   "metadata": {},
   "outputs": [],
   "source": [
    "# index to word/ index to ner -> (숫자로 된 데이터를 다시 한글로 돌리기 위해 미리 정의)\n",
    "index_to_word = sent_tokenizer.index_word\n",
    "index_to_ner = tag_tokenizer.index_word\n",
    "index_to_ner[0] = 'PAD'"
   ]
  },
  {
   "cell_type": "code",
   "execution_count": 13,
   "metadata": {},
   "outputs": [],
   "source": [
    "x_train = keras.utils.pad_sequences(x_train, padding='post', maxlen=40)\n",
    "y_train = keras.utils.pad_sequences(y_train, padding='post', maxlen=40)"
   ]
  },
  {
   "cell_type": "code",
   "execution_count": 14,
   "metadata": {},
   "outputs": [],
   "source": [
    "x_train, x_test, y_train, y_test = train_test_split(x_train,y_train, test_size=0.2)"
   ]
  },
  {
   "cell_type": "code",
   "execution_count": 15,
   "metadata": {},
   "outputs": [],
   "source": [
    "# 원 핫 인코딩\n",
    "\n",
    "y_train = tf.keras.utils.to_categorical(y_train, num_classes=tag_size)\n",
    "y_test = tf.keras.utils.to_categorical(y_test, num_classes=tag_size)"
   ]
  },
  {
   "cell_type": "code",
   "execution_count": null,
   "metadata": {},
   "outputs": [],
   "source": [
    "# 여기까지가 데이터 전처리"
   ]
  },
  {
   "cell_type": "code",
   "execution_count": 19,
   "metadata": {},
   "outputs": [],
   "source": [
    "# 모델 Bi-LSTM\n",
    "\n",
    "model = keras.Sequential()\n",
    "\n",
    "# mask_zero -> 패딩으로 만들어진 0값을 다음 레이어로 전달하지 않는다\n",
    "model.add(keras.layers.Embedding(input_dim=voca_size, output_dim=30, input_length=40, mask_zero=True))\n",
    "\n",
    "# Bidirectional -> 양방향\n",
    "# dropout -> 레이어 빠져나갈때 드롭아웃\n",
    "# recurrent_dropout -> 순환할때 드롭아웃\n",
    "model.add(keras.layers.Bidirectional(keras.layers.LSTM(200, return_sequences=True, dropout=0.5, recurrent_dropout=0.25)))\n",
    "\n",
    "# TimeDistribution -> 밀집층에서 3차원 데이터 받을 수 있게\n",
    "model.add(keras.layers.TimeDistributed(keras.layers.Dense(tag_size,activation='softmax')))"
   ]
  },
  {
   "cell_type": "code",
   "execution_count": 21,
   "metadata": {},
   "outputs": [
    {
     "name": "stdout",
     "output_type": "stream",
     "text": [
      "Epoch 1/10\n",
      "23/23 [==============================] - 19s 423ms/step - loss: 1.1757 - accuracy: 0.8359\n",
      "Epoch 2/10\n",
      "23/23 [==============================] - 11s 481ms/step - loss: 0.6160 - accuracy: 0.8682\n",
      "Epoch 3/10\n",
      "23/23 [==============================] - 11s 481ms/step - loss: 0.5865 - accuracy: 0.8682\n",
      "Epoch 4/10\n",
      "23/23 [==============================] - 12s 527ms/step - loss: 0.5581 - accuracy: 0.8683\n",
      "Epoch 5/10\n",
      "23/23 [==============================] - 12s 517ms/step - loss: 0.5195 - accuracy: 0.8677\n",
      "Epoch 6/10\n",
      "23/23 [==============================] - 12s 513ms/step - loss: 0.4423 - accuracy: 0.8754\n",
      "Epoch 7/10\n",
      "23/23 [==============================] - 12s 520ms/step - loss: 0.3709 - accuracy: 0.8876\n",
      "Epoch 8/10\n",
      "23/23 [==============================] - 13s 545ms/step - loss: 0.3187 - accuracy: 0.8960\n",
      "Epoch 9/10\n",
      "23/23 [==============================] - 13s 584ms/step - loss: 0.2855 - accuracy: 0.9025\n",
      "Epoch 10/10\n",
      "23/23 [==============================] - 14s 599ms/step - loss: 0.2634 - accuracy: 0.9088\n"
     ]
    },
    {
     "data": {
      "text/plain": [
       "<keras.callbacks.History at 0x244b9bef460>"
      ]
     },
     "execution_count": 21,
     "metadata": {},
     "output_type": "execute_result"
    }
   ],
   "source": [
    "# sparse -> 이미 원핫인코딩이 되어있는 인풋데이터면 안 써도 됨\n",
    "model.compile(optimizer='adam', loss='categorical_crossentropy', metrics=['accuracy'])\n",
    "model.fit(x_train, y_train, batch_size=128, epochs=10)"
   ]
  },
  {
   "cell_type": "code",
   "execution_count": 22,
   "metadata": {},
   "outputs": [
    {
     "name": "stdout",
     "output_type": "stream",
     "text": [
      "23/23 [==============================] - 3s 80ms/step - loss: 0.3251 - accuracy: 0.9002\n"
     ]
    },
    {
     "data": {
      "text/plain": [
       "[0.32506418228149414, 0.90019291639328]"
      ]
     },
     "execution_count": 22,
     "metadata": {},
     "output_type": "execute_result"
    }
   ],
   "source": [
    "model.evaluate(x_test, y_test)"
   ]
  },
  {
   "cell_type": "code",
   "execution_count": null,
   "metadata": {},
   "outputs": [],
   "source": [
    "# O태그를 많이 예측해서"
   ]
  },
  {
   "cell_type": "code",
   "execution_count": 23,
   "metadata": {},
   "outputs": [],
   "source": [
    "# F1 score\n",
    "# f1 = 2*(정밀도*재현율 / 정밀도+재현율)\n",
    "# 정밀도 : 결과값이 일정하게 분포되어있는지\n",
    "# 재현율 : 실제 정답인 것 중 모델이 정답이라 예측한 것의 비율"
   ]
  },
  {
   "cell_type": "code",
   "execution_count": 24,
   "metadata": {},
   "outputs": [],
   "source": [
    "#시퀀스를 NER태그로 변환\n",
    "\n",
    "def squence_to_tag(sequence):\n",
    "    result = []\n",
    "    for seq in sequence:\n",
    "        temp = []\n",
    "        for pred in seq:\n",
    "            # argmax -> 확률이 가장 높은 클래스의 인덱스\n",
    "            pred_index = np.argmax(pred)\n",
    "            temp.append(index_to_ner[pred_index].replace('PAD', 'O'))\n",
    "        result.append(temp)\n",
    "    return result"
   ]
  },
  {
   "cell_type": "code",
   "execution_count": 46,
   "metadata": {},
   "outputs": [
    {
     "name": "stdout",
     "output_type": "stream",
     "text": [
      "23/23 [==============================] - 1s 48ms/step\n"
     ]
    }
   ],
   "source": [
    "y_pred = model.predict(x_test)\n",
    "pred_tag = squence_to_tag(y_pred)\n",
    "test_tag = squence_to_tag(y_test)"
   ]
  },
  {
   "cell_type": "code",
   "execution_count": 56,
   "metadata": {},
   "outputs": [
    {
     "name": "stdout",
     "output_type": "stream",
     "text": [
      "23/23 [==============================] - 1s 46ms/step - loss: 0.3107 - accuracy: 1.0000\n"
     ]
    },
    {
     "data": {
      "text/plain": [
       "[0.3106871545314789, 1.0]"
      ]
     },
     "execution_count": 56,
     "metadata": {},
     "output_type": "execute_result"
    }
   ],
   "source": [
    "model.evaluate(x_test, y_pred)"
   ]
  },
  {
   "cell_type": "code",
   "execution_count": 40,
   "metadata": {},
   "outputs": [],
   "source": [
    "word_to_index = sent_tokenizer.word_index\n",
    "sentence = '삼성전자 출시 스마트폰 오늘 애플 도전장 내밀다.'.split()\n",
    "\n",
    "new_x = []\n",
    "for w in sentence:\n",
    "    try :\n",
    "        new_x.append(word_to_index.get(w, 1))\n",
    "    except :\n",
    "        new_x.append(word_to_index['OOV'])"
   ]
  },
  {
   "cell_type": "code",
   "execution_count": 41,
   "metadata": {},
   "outputs": [
    {
     "name": "stdout",
     "output_type": "stream",
     "text": [
      "1/1 [==============================] - 0s 39ms/step\n"
     ]
    },
    {
     "data": {
      "text/plain": [
       "array([[2, 1, 1, 5, 2, 2, 2, 1, 1, 1, 1, 1, 1, 1, 1, 1, 1, 1, 1, 1, 1, 1,\n",
       "        1, 1, 1, 1, 1, 1, 1, 1, 1, 1, 1, 1, 1, 1, 1, 1, 1, 1]],\n",
       "      dtype=int64)"
      ]
     },
     "execution_count": 41,
     "metadata": {},
     "output_type": "execute_result"
    }
   ],
   "source": [
    "pad_seq = keras.utils.pad_sequences([new_x], padding='post', value=0, maxlen=40)\n",
    "p = model.predict(np.array([pad_seq[0]]))\n",
    "p = np.argmax(p, axis=-1)\n",
    "p"
   ]
  },
  {
   "cell_type": "code",
   "execution_count": 42,
   "metadata": {},
   "outputs": [
    {
     "name": "stdout",
     "output_type": "stream",
     "text": [
      "삼성전자       I    \n",
      "출시         O    \n",
      "스마트폰       O    \n",
      "오늘         B_DT \n",
      "애플         I    \n",
      "도전장        I    \n",
      "내밀다.       I    \n"
     ]
    }
   ],
   "source": [
    "for w, pred in zip(sentence, p[0]) :\n",
    "    print('{:10} {:5}'.format(w, index_to_ner[pred]))"
   ]
  },
  {
   "cell_type": "code",
   "execution_count": null,
   "metadata": {},
   "outputs": [],
   "source": [
    "# 삼성전자 -> B_OG\n",
    "# 애플 -> B_OG"
   ]
  },
  {
   "cell_type": "code",
   "execution_count": null,
   "metadata": {},
   "outputs": [],
   "source": [
    "# 오늘 애플 도전장 내밀다\n",
    "# B_DT  I    I\n",
    "\n",
    "# 이어지는 데이터가 아닌데 이어진다고 나온 이유 -> 훈련 데이터 부족"
   ]
  },
  {
   "cell_type": "code",
   "execution_count": 44,
   "metadata": {},
   "outputs": [],
   "source": [
    "# 토큰화 -> 단어 임베딩(원핫인코딩) -> 신경망(합성곱, 순환, 둘다) 구축 -> 모델 통과\n",
    "# -> NER(BIO)태그 분석 사용자의 의도를 파악 -> 결과를 리턴\n",
    "\n",
    "# DB연동, 전체 프로세스 구축 API"
   ]
  }
 ],
 "metadata": {
  "kernelspec": {
   "display_name": "venv",
   "language": "python",
   "name": "python3"
  },
  "language_info": {
   "codemirror_mode": {
    "name": "ipython",
    "version": 3
   },
   "file_extension": ".py",
   "mimetype": "text/x-python",
   "name": "python",
   "nbconvert_exporter": "python",
   "pygments_lexer": "ipython3",
   "version": "3.10.9"
  },
  "orig_nbformat": 4
 },
 "nbformat": 4,
 "nbformat_minor": 2
}
