{
 "cells": [
  {
   "cell_type": "code",
   "execution_count": 1,
   "metadata": {},
   "outputs": [
    {
     "name": "stdout",
     "output_type": "stream",
     "text": [
      "{'authors': ['김영하'], 'contents': '김영하가 『살인자의 기억법』 이후 9 년 만에 내놓는 장편소설 『작별인사』는 그리 멀지 않은 미래를 배경으로, 별안간 삶이 송두리째 뒤흔들린 한 소년의 여정을 좇는다. 유명한 IT 기업의 연구원인 아버지와 쾌적하고 평화롭게 살아가던 철이는 어느날 갑자기 수용소로 끌려가 난생처음 날것의 감정으로 가득한 혼돈의 세계에 맞닥뜨리게 되면서 정신적, 신체적 위기에 직면한다. 동시에 자신처럼 사회에서 배제된 자들을 만나 처음으로 생생한 소속감을 느끼고 따뜻한', 'datetime': '2022-05-02T00:00:00.000+09:00', 'isbn': '1191114228 9791191114225', 'price': 14000, 'publisher': '복복서가', 'sale_price': 12600, 'status': '정상판매', 'thumbnail': 'https://search1.kakaocdn.net/thumb/R120x174.q85/?fname=http%3A%2F%2Ft1.daumcdn.net%2Flbook%2Fimage%2F6056307%3Ftimestamp%3D20230325161234', 'title': '작별인사', 'translators': [], 'url': 'https://search.daum.net/search?w=bookpage&bookId=6056307&q=%EC%9E%91%EB%B3%84%EC%9D%B8%EC%82%AC'}\n",
      "{'authors': ['윤정은'], 'contents': '그 기억을 지웠을 때 지금의 내가 있을 수 있을까? 만약 그 기억만 없다면 앞으로 행복만 할 수 있을까? 『메리골드 마음 세탁소』는 한밤중 언덕 위에 생겨난, 조금 수상하고도 신비로운 세탁소에서 벌어지는 일들을 그린 힐링 판타지 소설이다. 창백하게 하얀 얼굴에 젓가락처럼 마른 몸, 까맣고 구불구불 긴 머리의 미스테리한 여자는 세탁소를 찾아오는 누군가를 위해 매일같이 따뜻한 차를 끓인다. 차를 마신 이들은 어느 누구에게도 말하지 못했던 비밀스러운 이야기들', 'datetime': '2023-03-06T00:00:00.000+09:00', 'isbn': '1191891283 9791191891287', 'price': 15000, 'publisher': '북로망스', 'sale_price': 13500, 'status': '정상판매', 'thumbnail': 'https://search1.kakaocdn.net/thumb/R120x174.q85/?fname=http%3A%2F%2Ft1.daumcdn.net%2Flbook%2Fimage%2F6298231%3Ftimestamp%3D20230610141514', 'title': '메리골드 마음 세탁소', 'translators': [], 'url': 'https://search.daum.net/search?w=bookpage&bookId=6298231&q=%EB%A9%94%EB%A6%AC%EA%B3%A8%EB%93%9C+%EB%A7%88%EC%9D%8C+%EC%84%B8%ED%83%81%EC%86%8C'}\n",
      "{'authors': ['김연수'], 'contents': '작가 김연수가 짧지 않은 침묵을 깨고 신작 소설집 『이토록 평범한 미래』를 출간한다. 『사월의 미, 칠월의 솔』(2013) 이후 9년 만에 펴내는 여섯번째 소설집이다. 그전까지 2~4년 간격으로 꾸준히 소설집을 펴내며 ‘다작 작가’로 알려져온 그에게 지난 9년은 “바뀌어야 한다는 내적인 욕구”가 강하게 작동하는 동시에 “외적으로도 바뀔 수밖에 없는 일들이 벌어진”(특별 소책자 『어텐션 북』 수록 인터뷰에서) 시간이었다. 안팎으로 변화를 추동하는 일', 'datetime': '2022-10-07T00:00:00.000+09:00', 'isbn': '8954680003 9788954680004', 'price': 14000, 'publisher': '문학동네', 'sale_price': 12600, 'status': '정상판매', 'thumbnail': 'https://search1.kakaocdn.net/thumb/R120x174.q85/?fname=http%3A%2F%2Ft1.daumcdn.net%2Flbook%2Fimage%2F6170593%3Ftimestamp%3D20230516174616', 'title': '이토록 평범한 미래', 'translators': [], 'url': 'https://search.daum.net/search?w=bookpage&bookId=6170593&q=%EC%9D%B4%ED%86%A0%EB%A1%9D+%ED%8F%89%EB%B2%94%ED%95%9C+%EB%AF%B8%EB%9E%98'}\n",
      "{'authors': ['김주혜'], 'contents': '하는 것은 어쩌면 필연적인 일이었을 것이다.  폭넓은 서사와 호흡을 보여준다는 점에서 톨스토이의 작품을 연상케 하고, 일제강점기에 한국인이 겪었던 뒤틀린 운명을 그려낸다는 점에서 동시대를 배경으로 하는 『파친코』도 떠오른다. 대하소설을 좋아하는 독자, 절절한 사랑 이야기를 좋아하는 독자는 물론, 성별과 세대를 아울러 널리 읽힐 대작이다. 「기생충」을 시작으로 「파친코」까지 K-콘텐츠가 전 세계의 사랑을 받는 가운데 영어로 먼저 쓰인 ‘우리 이야기’를 본국', 'datetime': '2022-09-28T00:00:00.000+09:00', 'isbn': '1130693929 9791130693927', 'price': 18000, 'publisher': '다산책방', 'sale_price': 16200, 'status': '정상판매', 'thumbnail': 'https://search1.kakaocdn.net/thumb/R120x174.q85/?fname=http%3A%2F%2Ft1.daumcdn.net%2Flbook%2Fimage%2F6170534%3Ftimestamp%3D20230228190510', 'title': '작은 땅의 야수들', 'translators': ['박소현'], 'url': 'https://search.daum.net/search?w=bookpage&bookId=6170534&q=%EC%9E%91%EC%9D%80+%EB%95%85%EC%9D%98+%EC%95%BC%EC%88%98%EB%93%A4'}\n",
      "{'authors': ['정지아'], 'contents': '김유정문학상 심훈문학대상 이효석문학상 등을 수상하며 문학성을 두루 입증받은 ‘리얼리스트’ 정지아가 무려 32년 만에 장편소설을 발표했다. 써내는 작품마다 삶의 현존을 정확하게 묘사하며 독자와 평단의 찬사를 받아온 작가는 이번에 역사의 상흔과 가족의 사랑을 엮어낸 대작을 선보임으로써 선 굵은 서사에 목마른 독자들에게 한모금 청량음료 같은 해갈을 선사한다. 탁월한 언어적 세공으로 “한국소설의 새로운 화법을 제시”(문학평론가 정홍수)하기를 거듭해온 정지아는', 'datetime': '2022-09-02T00:00:00.000+09:00', 'isbn': '8936438832 9788936438838', 'price': 15000, 'publisher': '창비', 'sale_price': 13500, 'status': '정상판매', 'thumbnail': 'https://search1.kakaocdn.net/thumb/R120x174.q85/?fname=http%3A%2F%2Ft1.daumcdn.net%2Flbook%2Fimage%2F6150269%3Ftimestamp%3D20230524154649', 'title': '아버지의 해방일지', 'translators': [], 'url': 'https://search.daum.net/search?w=bookpage&bookId=6150269&q=%EC%95%84%EB%B2%84%EC%A7%80%EC%9D%98+%ED%95%B4%EB%B0%A9%EC%9D%BC%EC%A7%80'}\n",
      "{'authors': ['이민진'], 'contents': '한 세기에 걸친 재일조선인 가족의 이야기를 그린 세계적 베스트셀러, 이민진 작가의 장편소설 《파친코》가 새롭게 출간되었다. 《파친코》는 재미교포 1.5세대인 이민진 작가가 30년에 달하는 세월에 걸쳐 집필한 대하소설로, 2017년 출간되어 《뉴욕타임스》 베스트셀러에 올랐다. 현재까지 전 세계 33개국에 번역 수출되었으며, BBC, 아마존 등 75개 이상의 주요 매체의 ‘올해의 책’으로 선정되었을 뿐 아니라 전미도서상 최종 후보에 이름을 올리며 평단과', 'datetime': '2022-08-25T00:00:00.000+09:00', 'isbn': '1168340543 9791168340541', 'price': 15800, 'publisher': '인플루엔셜', 'sale_price': 14220, 'status': '정상판매', 'thumbnail': 'https://search1.kakaocdn.net/thumb/R120x174.q85/?fname=http%3A%2F%2Ft1.daumcdn.net%2Flbook%2Fimage%2F6136185%3Ftimestamp%3D20230309160857', 'title': '파친코 2', 'translators': ['신승미'], 'url': 'https://search.daum.net/search?w=bookpage&bookId=6136185&q=%ED%8C%8C%EC%B9%9C%EC%BD%94+2'}\n",
      "{'authors': ['김호연'], 'contents': '출간 후 1년이 넘도록 독자의 사랑을 받으며 베스트셀러 상위권을 지키고 있는 소설, 김호연 작가의 『불편한 편의점』이 그 두 번째 이야기로 다시 찾아왔다. 서울역 노숙인 독고 씨가 편의점의 야간 알바로 일하면서 시작되는 1편의 이야기는 예측불허의 웃음과 따스한 온기로 잔잔한 감동을 선사했다. 『불편한 편의점 2』는 전편의 위트와 속 깊은 시선을 이어가며 더욱 진득한 이야기로 독자를 끌어당긴다.  소설은 1편의 시간으로부터 1년 반이 흐른 여름날의', 'datetime': '2022-08-10T00:00:00.000+09:00', 'isbn': '116157137X 9791161571379', 'price': 14000, 'publisher': '나무옆의자', 'sale_price': 12600, 'status': '정상판매', 'thumbnail': 'https://search1.kakaocdn.net/thumb/R120x174.q85/?fname=http%3A%2F%2Ft1.daumcdn.net%2Flbook%2Fimage%2F6127539%3Ftimestamp%3D20230601164624', 'title': '불편한 편의점 2(단풍 에디션)', 'translators': [], 'url': 'https://search.daum.net/search?w=bookpage&bookId=6127539&q=%EB%B6%88%ED%8E%B8%ED%95%9C+%ED%8E%B8%EC%9D%98%EC%A0%90+2%28%EB%8B%A8%ED%92%8D+%EC%97%90%EB%94%94%EC%85%98%29'}\n",
      "{'authors': ['이민진'], 'contents': '“내게 ‘한국인’은 이야기의 주인공이 될 가치가 있는 이들이다. 나는 가능한 한 오래 한국인 이야기를 쓰고 싶다.” - ‘한국 독자들에게’ 중에서  4대에 걸친 재일조선인 가족의 이야기를 그린 세계적 베스트셀러, 이민진 작가의 장편소설 《파친코》가 새롭게 출간되었다. 《파친코》는 재미교포 1.5세대인 이민진 작가가 30년에 달하는 세월에 걸쳐 집필한 대하소설로, 2017년 출간되어 《뉴욕타임스》 베스트셀러에 올랐다. 현재까지 전 세계 33개국에 번역 수출되었으며', 'datetime': '2022-08-05T00:00:00.000+09:00', 'isbn': '1168340519 9791168340510', 'price': 15800, 'publisher': '인플루엔셜', 'sale_price': 14220, 'status': '정상판매', 'thumbnail': 'https://search1.kakaocdn.net/thumb/R120x174.q85/?fname=http%3A%2F%2Ft1.daumcdn.net%2Flbook%2Fimage%2F6117506%3Ftimestamp%3D20221228230109', 'title': '파친코 1', 'translators': ['신승미'], 'url': 'https://search.daum.net/search?w=bookpage&bookId=6117506&q=%ED%8C%8C%EC%B9%9C%EC%BD%94+1'}\n",
      "{'authors': ['김훈'], 'contents': '‘우리 시대 최고의 문장가’ ‘작가들의 작가’로 일컬어지는 소설가 김훈의 신작 장편소설 『하얼빈』이 출간되었다. 『하얼빈』은 김훈이 작가로 활동하는 내내 인생 과업으로 삼아왔던 특별한 작품이다. 작가는 청년 시절부터 안중근의 짧고 강렬했던 생애를 소설로 쓰려는 구상을 품고 있었고, 안중근의 움직임이 뿜어내는 에너지를 글로 감당하기 위해 오랜 시간을 들여 ‘인간 안중근’을 깊이 이해해나갔다. 그리고 2022년 여름, 치열하고 절박한 집필 끝에 드디어 그', 'datetime': '2022-08-03T00:00:00.000+09:00', 'isbn': '895469991X 9788954699914', 'price': 16000, 'publisher': '문학동네', 'sale_price': 14400, 'status': '정상판매', 'thumbnail': 'https://search1.kakaocdn.net/thumb/R120x174.q85/?fname=http%3A%2F%2Ft1.daumcdn.net%2Flbook%2Fimage%2F6127558%3Ftimestamp%3D20221011183642', 'title': '하얼빈(양장본 Hardcover)', 'translators': [], 'url': 'https://search.daum.net/search?w=bookpage&bookId=6127558&q=%ED%95%98%EC%96%BC%EB%B9%88%28%EC%96%91%EC%9E%A5%EB%B3%B8+Hardcover%29'}\n",
      "{'authors': ['황보름'], 'contents': '작은 상처와 희망을 가진 사람들이 휴남동 서점이라는 공간을 안식처로 삼아 함께 살아가는 법을 배운다. 『어서 오세요, 휴남동 서점입니다』는 우리가 잃어버린 채 살고 있지만 사는 데 꼭 필요한 것들이 가득한 책이다. 배려와 친절, 거리를 지킬 줄 아는 사람들끼리의 우정과 느슨한 연대, 진솔하고 깊이 있는 대화 등. 출간 즉시 전자책 TOP 10 베스트셀러에 오르며 수많은 독자의 찬사를 받은 소설이 독자들의 강력한 요청으로 마침내 종이책으로 다시 태어났다', 'datetime': '2022-01-17T00:00:00.000+09:00', 'isbn': '119737714X 9791197377143', 'price': 15000, 'publisher': '클레이하우스', 'sale_price': 13500, 'status': '정상판매', 'thumbnail': 'https://search1.kakaocdn.net/thumb/R120x174.q85/?fname=http%3A%2F%2Ft1.daumcdn.net%2Flbook%2Fimage%2F5941886%3Ftimestamp%3D20230518183723', 'title': '어서 오세요, 휴남동 서점입니다', 'translators': [], 'url': 'https://search.daum.net/search?w=bookpage&bookId=5941886&q=%EC%96%B4%EC%84%9C+%EC%98%A4%EC%84%B8%EC%9A%94%2C+%ED%9C%B4%EB%82%A8%EB%8F%99+%EC%84%9C%EC%A0%90%EC%9E%85%EB%8B%88%EB%8B%A4'}\n"
     ]
    }
   ],
   "source": [
    "import requests\n",
    "\n",
    "url = \"https://dapi.kakao.com/v3/search/book?target=title\"\n",
    "query = \"소설\"\n",
    "headers = {\n",
    "    \"Authorization\": \"KakaoAK \" + \"6f17079cca732d80079d4b3ed644bcca\"\n",
    "}\n",
    "\n",
    "response = requests.get(url, params={\"query\": query}, headers=headers)\n",
    "data = response.json()\n",
    "\n",
    "if \"documents\" in data:\n",
    "    for document in data[\"documents\"]:\n",
    "        print(document)"
   ]
  }
 ],
 "metadata": {
  "kernelspec": {
   "display_name": "venv",
   "language": "python",
   "name": "python3"
  },
  "language_info": {
   "codemirror_mode": {
    "name": "ipython",
    "version": 3
   },
   "file_extension": ".py",
   "mimetype": "text/x-python",
   "name": "python",
   "nbconvert_exporter": "python",
   "pygments_lexer": "ipython3",
   "version": "3.10.9"
  },
  "orig_nbformat": 4
 },
 "nbformat": 4,
 "nbformat_minor": 2
}
