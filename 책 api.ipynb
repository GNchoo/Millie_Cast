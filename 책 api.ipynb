{
 "cells": [
  {
   "cell_type": "code",
   "execution_count": 2,
   "metadata": {},
   "outputs": [
    {
     "name": "stdout",
     "output_type": "stream",
     "text": [
      "작별인사\n",
      "메리골드 마음 세탁소\n",
      "이토록 평범한 미래\n",
      "작은 땅의 야수들\n",
      "아버지의 해방일지\n",
      "파친코 2\n",
      "불편한 편의점 2(단풍 에디션)\n",
      "파친코 1\n",
      "하얼빈(양장본 Hardcover)\n",
      "어서 오세요, 휴남동 서점입니다\n"
     ]
    }
   ],
   "source": [
    "import requests\n",
    "\n",
    "url = \"https://dapi.kakao.com/v3/search/book?target=title\"\n",
    "query = \"소설\"\n",
    "headers = {\n",
    "    \"Authorization\": \"KakaoAK \" + \"6f17079cca732d80079d4b3ed644bcca\"\n",
    "}\n",
    "\n",
    "response = requests.get(url, params={\"query\": query}, headers=headers)\n",
    "data = response.json()\n",
    "\n",
    "if \"documents\" in data:\n",
    "    for document in data[\"documents\"]:\n",
    "        print(document['title'])"
   ]
  }
 ],
 "metadata": {
  "kernelspec": {
   "display_name": "venv",
   "language": "python",
   "name": "python3"
  },
  "language_info": {
   "codemirror_mode": {
    "name": "ipython",
    "version": 3
   },
   "file_extension": ".py",
   "mimetype": "text/x-python",
   "name": "python",
   "nbconvert_exporter": "python",
   "pygments_lexer": "ipython3",
   "version": "3.10.9"
  },
  "orig_nbformat": 4
 },
 "nbformat": 4,
 "nbformat_minor": 2
}
