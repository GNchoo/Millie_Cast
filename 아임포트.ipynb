{
 "cells": [
  {
   "cell_type": "code",
   "execution_count": 8,
   "metadata": {},
   "outputs": [],
   "source": [
    "from iamport import Iamport\n",
    "\n",
    "# 아임포트 객체를 생성합니다.\n",
    "iamport = Iamport(imp_key=impkey, imp_secret=impsecret)"
   ]
  },
  {
   "cell_type": "code",
   "execution_count": 115,
   "metadata": {},
   "outputs": [
    {
     "name": "stdout",
     "output_type": "stream",
     "text": [
      "결제 성공\n"
     ]
    }
   ],
   "source": [
    "from iamport import Iamport\n",
    "\n",
    "# 아임포트 객체를 생성합니다.\n",
    "iamport = Iamport(imp_key=impkey, imp_secret=impsecret)\n",
    "\n",
    "# 결제 정보를 설정합니다.\n",
    "payload = {\n",
    "    'pay_method': 'card',\n",
    "    'merchant_uid': '0002',\n",
    "    'name': '최초인증결제',\n",
    "    'amount': 100,\n",
    "    'customer_uid': '001',\n",
    "    'buyer_email': 'ehrkdrb1@gmail.com',\n",
    "    'buyer_name': '도강규',\n",
    "    'customer_addr': '울산시 북구 염포로 459 양정 힐스테이트 1차 113동 601호',\n",
    "    'customer_postcode': 44258,\n",
    "    'buyer_tel': '010-2477-3482',\n",
    "    'card_number': '5461-1111-6750-1846',\n",
    "    'expiry': '2023-10',\n",
    "    'birth': '960922',\n",
    "    'pwd_2digit': '14'\n",
    "}\n",
    "\n",
    "# 결제 요청 API 호출\n",
    "try:\n",
    "    response = iamport.pay_onetime(**payload)\n",
    "    if response['status'] == 'paid':\n",
    "        print('결제 성공')\n",
    "    else:\n",
    "        print('결제 실패')\n",
    "except Iamport.ResponseError as e:\n",
    "    print('응답 에러:', e.code, e.message)\n",
    "except Iamport.HttpError as e:\n",
    "    print('HTTP 에러:', e.code, e.reason)\n",
    "except Exception as e:\n",
    "    print('기타 에러:', str(e))\n"
   ]
  },
  {
   "cell_type": "code",
   "execution_count": null,
   "metadata": {},
   "outputs": [],
   "source": [
    "from iamport import Iamport\n",
    "\n",
    "# 아임포트 객체를 생성합니다.\n",
    "iamport = Iamport(imp_key=impkey, imp_secret=impsecret)\n",
    "\n",
    "# 결제 함수를 정의합니다.\n",
    "def perform_payment(payload):\n",
    "    try:\n",
    "        response = iamport.pay_onetime(**payload)\n",
    "        if response['status'] == 'paid':\n",
    "            print('결제 성공')\n",
    "        else:\n",
    "            print('결제 실패')\n",
    "    except Iamport.ResponseError as e:\n",
    "        print('응답 에러:', e.code, e.message)\n",
    "    except Iamport.HttpError as e:\n",
    "        print('HTTP 에러:', e.code, e.reason)\n",
    "    except Exception as e:\n",
    "        print('기타 에러:', str(e))\n",
    "\n",
    "# 결제 정보를 입력받습니다.\n",
    "pay_method = input('결제 방법을 선택하세요 (card, vbank): ')\n",
    "merchant_uid = input('주문번호를 입력하세요: ')\n",
    "name = input('상품명을 입력하세요: ')\n",
    "amount = int(input('결제할 금액을 입력하세요: '))\n",
    "customer_uid = input('구매자 고유 식별값을 입력하세요: ')\n",
    "buyer_email = input('구매자 이메일을 입력하세요: ')\n",
    "buyer_name = input('구매자 이름을 입력하세요: ')\n",
    "customer_addr = input('구매자 주소를 입력하세요: ')\n",
    "customer_postcode = input('구매자 우편번호를 입력하세요: ')\n",
    "buyer_tel = input('구매자 전화번호를 입력하세요: ')\n",
    "card_number = input('카드 번호를 입력하세요: ')\n",
    "expiry = input('카드 유효기간을 입력하세요 (YYMM): ')\n",
    "birth = input('구매자 생년월일을 입력하세요 (YYMMDD): ')\n",
    "pwd_2digit = input('카드 비밀번호 앞 2자리를 입력하세요: ')\n",
    "\n",
    "# 결제 정보를 payload에 설정합니다.\n",
    "payload = {\n",
    "    'pay_method': pay_method,\n",
    "    'merchant_uid': merchant_uid,\n",
    "    'name': name,\n",
    "    'amount': amount,\n",
    "    'customer_uid': customer_uid,\n",
    "    'buyer_email': buyer_email,\n",
    "    'buyer_name': buyer_name,\n",
    "    'customer_addr': customer_addr,\n",
    "    'customer_postcode': customer_postcode,\n",
    "    'buyer_tel': buyer_tel,\n",
    "    'card_number': card_number,\n",
    "    'expiry': expiry,\n",
    "    'birth': birth,\n",
    "    'pwd_2digit': pwd_2digit\n",
    "}\n",
    "\n",
    "# 결제 함수를 호출하여 결제를 수행합니다.\n",
    "perform_payment(payload)\n"
   ]
  },
  {
   "cell_type": "code",
   "execution_count": 11,
   "metadata": {},
   "outputs": [
    {
     "data": {
      "text/plain": [
       "{'card_code': '371',\n",
       " 'card_name': 'NH카드',\n",
       " 'card_number': '546111*********6',\n",
       " 'card_type': 1,\n",
       " 'customer_addr': None,\n",
       " 'customer_email': 'ehrkdrb1@gmail.com',\n",
       " 'customer_id': 'customer-id-8e014cef-b0c7-49f9-8bf7-ba4afab946f6',\n",
       " 'customer_name': '도강규',\n",
       " 'customer_postcode': None,\n",
       " 'customer_tel': '01024773482',\n",
       " 'customer_uid': '001',\n",
       " 'inserted': 1688005922,\n",
       " 'pg_id': 'INIBillTst',\n",
       " 'pg_provider': 'html5_inicis',\n",
       " 'updated': 1688084073}"
      ]
     },
     "execution_count": 11,
     "metadata": {},
     "output_type": "execute_result"
    }
   ],
   "source": [
    "#고객 조회\n",
    "iamport.customer_get(\"001\")"
   ]
  },
  {
   "cell_type": "code",
   "execution_count": 10,
   "metadata": {},
   "outputs": [
    {
     "data": {
      "text/plain": [
       "{'amount': 100,\n",
       " 'apply_num': '55468999',\n",
       " 'bank_code': None,\n",
       " 'bank_name': None,\n",
       " 'buyer_addr': None,\n",
       " 'buyer_email': 'ehrkdrb1@gmail.com',\n",
       " 'buyer_name': '도강규',\n",
       " 'buyer_postcode': None,\n",
       " 'buyer_tel': '01024773482',\n",
       " 'cancel_amount': 100,\n",
       " 'cancel_history': [{'pg_tid': 'StdpayCARDINIBillTst20230630124206098491',\n",
       "   'amount': 100,\n",
       "   'cancelled_at': 1688096614,\n",
       "   'reason': '관리자페이지취소',\n",
       "   'receipt_url': 'https://iniweb.inicis.com/DefaultWebApp/mall/cr/cm/mCmReceipt_head.jsp?noTid=StdpayCARDINIBillTst20230630124206098491&noMethod=1'}],\n",
       " 'cancel_reason': '관리자페이지취소',\n",
       " 'cancel_receipt_urls': ['https://iniweb.inicis.com/DefaultWebApp/mall/cr/cm/mCmReceipt_head.jsp?noTid=StdpayCARDINIBillTst20230630124206098491&noMethod=1'],\n",
       " 'cancelled_at': 1688096614,\n",
       " 'card_code': '371',\n",
       " 'card_name': 'NH카드',\n",
       " 'card_number': '546111*********6',\n",
       " 'card_quota': 0,\n",
       " 'card_type': 1,\n",
       " 'cash_receipt_issued': False,\n",
       " 'channel': 'pc',\n",
       " 'currency': 'KRW',\n",
       " 'custom_data': None,\n",
       " 'customer_uid': None,\n",
       " 'customer_uid_usage': None,\n",
       " 'emb_pg_provider': None,\n",
       " 'escrow': False,\n",
       " 'fail_reason': None,\n",
       " 'failed_at': 0,\n",
       " 'imp_uid': 'imp_409464808575',\n",
       " 'merchant_uid': 'mid_1688096464380',\n",
       " 'name': '구독서비스',\n",
       " 'paid_at': 1688096527,\n",
       " 'pay_method': 'card',\n",
       " 'pg_id': 'INIBillTst',\n",
       " 'pg_provider': 'html5_inicis',\n",
       " 'pg_tid': 'StdpayCARDINIBillTst20230630124206098491',\n",
       " 'receipt_url': 'https://iniweb.inicis.com/DefaultWebApp/mall/cr/cm/mCmReceipt_head.jsp?noTid=StdpayCARDINIBillTst20230630124206098491&noMethod=1',\n",
       " 'started_at': 1688096464,\n",
       " 'status': 'cancelled',\n",
       " 'user_agent': 'Mozilla/5.0 (Windows NT 10.0; Win64; x64) AppleWebKit/537.36 (KHTML, like Gecko) Chrome/114.0.0.0 Safari/537.36',\n",
       " 'vbank_code': None,\n",
       " 'vbank_date': 0,\n",
       " 'vbank_holder': None,\n",
       " 'vbank_issued_at': 0,\n",
       " 'vbank_name': None,\n",
       " 'vbank_num': None}"
      ]
     },
     "execution_count": 10,
     "metadata": {},
     "output_type": "execute_result"
    }
   ],
   "source": [
    "# 상품 아이디로 조회\n",
    "response = iamport.find(merchant_uid='mid_1688096464380')\n",
    "response"
   ]
  },
  {
   "cell_type": "code",
   "execution_count": 120,
   "metadata": {},
   "outputs": [
    {
     "data": {
      "text/plain": [
       "{'amount': 100,\n",
       " 'apply_num': '46566119',\n",
       " 'bank_code': None,\n",
       " 'bank_name': None,\n",
       " 'buyer_addr': None,\n",
       " 'buyer_email': 'ehrkdrb1@gmail.com',\n",
       " 'buyer_name': '도강규',\n",
       " 'buyer_postcode': None,\n",
       " 'buyer_tel': '010-2477-3482',\n",
       " 'cancel_amount': 100,\n",
       " 'cancel_history': [{'pg_tid': 'INIpayBillINIBillTst20230629124950351528',\n",
       "   'amount': 100,\n",
       "   'cancelled_at': 1688010710,\n",
       "   'reason': '잘못 결제',\n",
       "   'receipt_url': 'https://iniweb.inicis.com/DefaultWebApp/mall/cr/cm/mCmReceipt_head.jsp?noTid=INIpayBillINIBillTst20230629124950351528&noMethod=1'}],\n",
       " 'cancel_reason': '잘못 결제',\n",
       " 'cancel_receipt_urls': ['https://iniweb.inicis.com/DefaultWebApp/mall/cr/cm/mCmReceipt_head.jsp?noTid=INIpayBillINIBillTst20230629124950351528&noMethod=1'],\n",
       " 'cancelled_at': 1688010710,\n",
       " 'card_code': '371',\n",
       " 'card_name': 'NH카드',\n",
       " 'card_number': '546111*********6',\n",
       " 'card_quota': 0,\n",
       " 'card_type': 1,\n",
       " 'cash_receipt_issued': False,\n",
       " 'channel': 'api',\n",
       " 'currency': 'KRW',\n",
       " 'custom_data': None,\n",
       " 'customer_uid': '001',\n",
       " 'customer_uid_usage': 'payment',\n",
       " 'emb_pg_provider': None,\n",
       " 'escrow': False,\n",
       " 'fail_reason': None,\n",
       " 'failed_at': 0,\n",
       " 'imp_uid': 'imps_238591146178',\n",
       " 'merchant_uid': '0003',\n",
       " 'name': '최초인증결제',\n",
       " 'paid_at': 1688010591,\n",
       " 'pay_method': 'card',\n",
       " 'pg_id': 'INIBillTst',\n",
       " 'pg_provider': 'html5_inicis',\n",
       " 'pg_tid': 'INIpayBillINIBillTst20230629124950351528',\n",
       " 'receipt_url': 'https://iniweb.inicis.com/DefaultWebApp/mall/cr/cm/mCmReceipt_head.jsp?noTid=INIpayBillINIBillTst20230629124950351528&noMethod=1',\n",
       " 'started_at': 1688010591,\n",
       " 'status': 'cancelled',\n",
       " 'user_agent': 'python-requests/2.26.0',\n",
       " 'vbank_code': None,\n",
       " 'vbank_date': 0,\n",
       " 'vbank_holder': None,\n",
       " 'vbank_issued_at': 0,\n",
       " 'vbank_name': None,\n",
       " 'vbank_num': None}"
      ]
     },
     "execution_count": 120,
     "metadata": {},
     "output_type": "execute_result"
    }
   ],
   "source": [
    "# 상품 아이디로 취소\n",
    "response = iamport.cancel('잘못 결제', merchant_uid='0003')\n",
    "response"
   ]
  }
 ],
 "metadata": {
  "kernelspec": {
   "display_name": "venv",
   "language": "python",
   "name": "python3"
  },
  "language_info": {
   "codemirror_mode": {
    "name": "ipython",
    "version": 3
   },
   "file_extension": ".py",
   "mimetype": "text/x-python",
   "name": "python",
   "nbconvert_exporter": "python",
   "pygments_lexer": "ipython3",
   "version": "3.10.9"
  },
  "orig_nbformat": 4
 },
 "nbformat": 4,
 "nbformat_minor": 2
}
