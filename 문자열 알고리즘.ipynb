{
 "cells": [
  {
   "cell_type": "code",
   "execution_count": 354,
   "metadata": {},
   "outputs": [],
   "source": [
    "def get_initials(word):\n",
    "    CHOSUNG_LIST = [\n",
    "        'ㄱ', 'ㄲ', 'ㄴ', 'ㄷ', 'ㄸ', 'ㄹ', 'ㅁ', 'ㅂ', 'ㅃ', 'ㅅ', 'ㅆ', 'ㅇ', 'ㅈ', 'ㅉ', 'ㅊ', 'ㅋ', 'ㅌ', 'ㅍ', 'ㅎ'\n",
    "    ]\n",
    "\n",
    "    initials = []\n",
    "    for char in word:\n",
    "        if char.isalpha() and char.isascii():\n",
    "            initials.append(char)\n",
    "        else:\n",
    "            unicode_val = ord(char) - ord('가')\n",
    "            if 0 <= unicode_val < 11172:\n",
    "                cho_idx = unicode_val // 588\n",
    "                initials.append(CHOSUNG_LIST[cho_idx])\n",
    "    \n",
    "    return ''.join(initials)"
   ]
  },
  {
   "cell_type": "code",
   "execution_count": null,
   "metadata": {},
   "outputs": [],
   "source": [
    "dataset = [\n",
    "    '어린왕자',\n",
    "    '신데렐라',\n",
    "    '헨젤과 그레텔',\n",
    "    '백설공주',\n",
    "    '잭과 콩나무',\n",
    "    '미녀와 야수',\n",
    "    '리틀 프린세스',\n",
    "    '인어공주',\n",
    "    '톰 소여의 모험',\n",
    "    '앨리스 챕터 1',\n",
    "    '알라딘과 마법의 램프',\n",
    "    '세 개의 곰',\n",
    "    '피터 팬',\n",
    "    '쇼머리 연구소',\n",
    "    '라이온 킹',\n",
    "    '발리 발리',\n",
    "    '마법사의 제자',\n",
    "    '금발 공주와 세 명의 곰',\n",
    "    '헨젤과 그레텔의 집'\n",
    "]\n",
    "\n",
    "new_dataset = [[book, get_initials(book)] for book in dataset]\n"
   ]
  },
  {
   "cell_type": "code",
   "execution_count": 355,
   "metadata": {},
   "outputs": [
    {
     "name": "stdout",
     "output_type": "stream",
     "text": [
      "검색한 값: 왕자\n",
      "일치하는 결과:\n",
      "어린왕자\n"
     ]
    }
   ],
   "source": [
    "s1 = input('초성을 입력해주세요.')\n",
    "print(\"검색한 값:\", s1)\n",
    "\n",
    "matched_results = []  # 일치하는 결과를 저장할 리스트\n",
    "\n",
    "# 입력된 검색어와 데이터셋 비교\n",
    "for item in new_dataset:\n",
    "    name = item[0]\n",
    "    initials = get_initials(name)\n",
    "    \n",
    "    if s1 == name or s1 in name or s1 in initials or initials.startswith(s1):\n",
    "        matched_results.append(name)\n",
    "\n",
    "if len(matched_results) > 0:\n",
    "    print(\"일치하는 결과:\")\n",
    "    for result in matched_results:\n",
    "        print(result)\n",
    "else:\n",
    "    print('일치하는 결과를 찾을 수 없습니다.')"
   ]
  }
 ],
 "metadata": {
  "kernelspec": {
   "display_name": "venv",
   "language": "python",
   "name": "python3"
  },
  "language_info": {
   "codemirror_mode": {
    "name": "ipython",
    "version": 3
   },
   "file_extension": ".py",
   "mimetype": "text/x-python",
   "name": "python",
   "nbconvert_exporter": "python",
   "pygments_lexer": "ipython3",
   "version": "3.10.9"
  },
  "orig_nbformat": 4
 },
 "nbformat": 4,
 "nbformat_minor": 2
}
